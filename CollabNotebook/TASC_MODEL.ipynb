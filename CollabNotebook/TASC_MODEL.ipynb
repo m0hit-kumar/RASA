{
  "nbformat": 4,
  "nbformat_minor": 0,
  "metadata": {
    "colab": {
      "provenance": [],
      "authorship_tag": "ABX9TyPj9vCLWeo8z/916mG70Ur8",
      "include_colab_link": true
    },
    "kernelspec": {
      "name": "python3",
      "display_name": "Python 3"
    },
    "language_info": {
      "name": "python"
    }
  },
  "cells": [
    {
      "cell_type": "markdown",
      "metadata": {
        "id": "view-in-github",
        "colab_type": "text"
      },
      "source": [
        "<a href=\"https://colab.research.google.com/github/m0hit-kumar/RASA/blob/main/CollabNotebook/TASC_MODEL.ipynb\" target=\"_parent\"><img src=\"https://colab.research.google.com/assets/colab-badge.svg\" alt=\"Open In Colab\"/></a>"
      ]
    },
    {
      "cell_type": "code",
      "execution_count": 4,
      "metadata": {
        "id": "fbkFESXhtIzP",
        "colab": {
          "base_uri": "https://localhost:8080/"
        },
        "outputId": "7066a2e8-ee17-42d8-ebff-be866b7faa92"
      },
      "outputs": [
        {
          "output_type": "stream",
          "name": "stdout",
          "text": [
            "Archive:  Corrected_data.zip\n",
            "   creating: Corrected_data/\n",
            "  inflating: Corrected_data/BombBlast(categorised).json  \n",
            "  inflating: Corrected_data/Earthquake(categorised).json  \n",
            "  inflating: Corrected_data/flood(categorised).json  \n",
            "  inflating: Corrected_data/tornado(categorised).json  \n",
            "  inflating: Corrected_data/tsnuami (categorised).json  \n",
            "  inflating: Corrected_data/Volcano(categorised).json  \n",
            "  inflating: Corrected_data/war(categorised).json  \n"
          ]
        }
      ],
      "source": [
        "!unzip Corrected_data.zip\n"
      ]
    },
    {
      "cell_type": "code",
      "source": [
        "import json\n",
        "import os\n",
        "\n",
        "all_data = []\n",
        "for filename in os.listdir('Corrected_data/'):\n",
        "    if filename.endswith(\".json\"):\n",
        "        file_path = os.path.join('Corrected_data/', filename)\n",
        "        with open(file_path, 'r') as file:\n",
        "            data = json.load(file)\n",
        "            all_data.extend(data)\n",
        "\n",
        "with open(\"Data.json\", 'w') as outfile:\n",
        "    json.dump(all_data, outfile, indent=4)"
      ],
      "metadata": {
        "colab": {
          "base_uri": "https://localhost:8080/"
        },
        "id": "ypxCjEwd6uVk",
        "outputId": "f47c1385-78f8-482e-a765-ccf63913dd0c"
      },
      "execution_count": 5,
      "outputs": [
        {
          "output_type": "stream",
          "name": "stdout",
          "text": [
            "All JSON files have been combined into 'Data.json'\n"
          ]
        }
      ]
    },
    {
      "cell_type": "code",
      "source": [],
      "metadata": {
        "id": "thugj3OoUVGo"
      },
      "execution_count": null,
      "outputs": []
    },
    {
      "cell_type": "code",
      "source": [
        "import pandas as pd\n",
        "import numpy as np\n",
        "from sklearn.model_selection import train_test_split\n",
        "import nltk\n",
        "nltk.download('stopwords')\n",
        "import copy\n",
        "import matplotlib.pyplot as plt\n",
        "from sklearn.feature_extraction.text import CountVectorizer\n",
        "from sklearn.preprocessing import LabelEncoder\n",
        "from sklearn.feature_selection import VarianceThreshold\n",
        "from imblearn.over_sampling import SMOTE\n",
        "from sklearn.dummy import DummyClassifier\n",
        "from sklearn.naive_bayes import MultinomialNB\n",
        "from sklearn.tree import DecisionTreeClassifier\n",
        "from sklearn.neural_network import MLPClassifier\n",
        "from sklearn.ensemble import RandomForestClassifier\n",
        "from sklearn.metrics import confusion_matrix\n",
        "from sklearn.metrics import classification_report\n",
        "import seaborn as sns\n",
        "from sklearn.metrics import f1_score\n"
      ],
      "metadata": {
        "colab": {
          "base_uri": "https://localhost:8080/"
        },
        "id": "cMxkM5IBUUrP",
        "outputId": "3700c095-16c5-4492-e77b-261563798259"
      },
      "execution_count": 125,
      "outputs": [
        {
          "output_type": "stream",
          "name": "stderr",
          "text": [
            "[nltk_data] Downloading package stopwords to /root/nltk_data...\n",
            "[nltk_data]   Package stopwords is already up-to-date!\n"
          ]
        }
      ]
    },
    {
      "cell_type": "code",
      "source": [
        "\n",
        "data=pd.read_json(\"Data.json\")"
      ],
      "metadata": {
        "id": "Khe1pXtVRVSb"
      },
      "execution_count": 126,
      "outputs": []
    },
    {
      "cell_type": "code",
      "source": [
        "data.head()"
      ],
      "metadata": {
        "colab": {
          "base_uri": "https://localhost:8080/",
          "height": 206
        },
        "id": "eCOvCrRiW9b1",
        "outputId": "47824a8c-7872-4de6-8388-6f99a9e6574c"
      },
      "execution_count": 127,
      "outputs": [
        {
          "output_type": "execute_result",
          "data": {
            "text/plain": [
              "                                                text         intent\n",
              "0  Mr O'Flynn said he was at the finish of the ev...  Miscellaneous\n",
              "1  \"While I know how sore it must be, let none of...  Miscellaneous\n",
              "2  Nancy Ward, director of the California Governo...  Miscellaneous\n",
              "3  Corpses of soldiers lay strewn on the streets ...  Miscellaneous\n",
              "4  The forecaster added: \"The next few days will ...         floods"
            ],
            "text/html": [
              "\n",
              "  <div id=\"df-d05afa9e-72ee-4df4-977d-47b1edb05574\" class=\"colab-df-container\">\n",
              "    <div>\n",
              "<style scoped>\n",
              "    .dataframe tbody tr th:only-of-type {\n",
              "        vertical-align: middle;\n",
              "    }\n",
              "\n",
              "    .dataframe tbody tr th {\n",
              "        vertical-align: top;\n",
              "    }\n",
              "\n",
              "    .dataframe thead th {\n",
              "        text-align: right;\n",
              "    }\n",
              "</style>\n",
              "<table border=\"1\" class=\"dataframe\">\n",
              "  <thead>\n",
              "    <tr style=\"text-align: right;\">\n",
              "      <th></th>\n",
              "      <th>text</th>\n",
              "      <th>intent</th>\n",
              "    </tr>\n",
              "  </thead>\n",
              "  <tbody>\n",
              "    <tr>\n",
              "      <th>0</th>\n",
              "      <td>Mr O'Flynn said he was at the finish of the ev...</td>\n",
              "      <td>Miscellaneous</td>\n",
              "    </tr>\n",
              "    <tr>\n",
              "      <th>1</th>\n",
              "      <td>\"While I know how sore it must be, let none of...</td>\n",
              "      <td>Miscellaneous</td>\n",
              "    </tr>\n",
              "    <tr>\n",
              "      <th>2</th>\n",
              "      <td>Nancy Ward, director of the California Governo...</td>\n",
              "      <td>Miscellaneous</td>\n",
              "    </tr>\n",
              "    <tr>\n",
              "      <th>3</th>\n",
              "      <td>Corpses of soldiers lay strewn on the streets ...</td>\n",
              "      <td>Miscellaneous</td>\n",
              "    </tr>\n",
              "    <tr>\n",
              "      <th>4</th>\n",
              "      <td>The forecaster added: \"The next few days will ...</td>\n",
              "      <td>floods</td>\n",
              "    </tr>\n",
              "  </tbody>\n",
              "</table>\n",
              "</div>\n",
              "    <div class=\"colab-df-buttons\">\n",
              "\n",
              "  <div class=\"colab-df-container\">\n",
              "    <button class=\"colab-df-convert\" onclick=\"convertToInteractive('df-d05afa9e-72ee-4df4-977d-47b1edb05574')\"\n",
              "            title=\"Convert this dataframe to an interactive table.\"\n",
              "            style=\"display:none;\">\n",
              "\n",
              "  <svg xmlns=\"http://www.w3.org/2000/svg\" height=\"24px\" viewBox=\"0 -960 960 960\">\n",
              "    <path d=\"M120-120v-720h720v720H120Zm60-500h600v-160H180v160Zm220 220h160v-160H400v160Zm0 220h160v-160H400v160ZM180-400h160v-160H180v160Zm440 0h160v-160H620v160ZM180-180h160v-160H180v160Zm440 0h160v-160H620v160Z\"/>\n",
              "  </svg>\n",
              "    </button>\n",
              "\n",
              "  <style>\n",
              "    .colab-df-container {\n",
              "      display:flex;\n",
              "      gap: 12px;\n",
              "    }\n",
              "\n",
              "    .colab-df-convert {\n",
              "      background-color: #E8F0FE;\n",
              "      border: none;\n",
              "      border-radius: 50%;\n",
              "      cursor: pointer;\n",
              "      display: none;\n",
              "      fill: #1967D2;\n",
              "      height: 32px;\n",
              "      padding: 0 0 0 0;\n",
              "      width: 32px;\n",
              "    }\n",
              "\n",
              "    .colab-df-convert:hover {\n",
              "      background-color: #E2EBFA;\n",
              "      box-shadow: 0px 1px 2px rgba(60, 64, 67, 0.3), 0px 1px 3px 1px rgba(60, 64, 67, 0.15);\n",
              "      fill: #174EA6;\n",
              "    }\n",
              "\n",
              "    .colab-df-buttons div {\n",
              "      margin-bottom: 4px;\n",
              "    }\n",
              "\n",
              "    [theme=dark] .colab-df-convert {\n",
              "      background-color: #3B4455;\n",
              "      fill: #D2E3FC;\n",
              "    }\n",
              "\n",
              "    [theme=dark] .colab-df-convert:hover {\n",
              "      background-color: #434B5C;\n",
              "      box-shadow: 0px 1px 3px 1px rgba(0, 0, 0, 0.15);\n",
              "      filter: drop-shadow(0px 1px 2px rgba(0, 0, 0, 0.3));\n",
              "      fill: #FFFFFF;\n",
              "    }\n",
              "  </style>\n",
              "\n",
              "    <script>\n",
              "      const buttonEl =\n",
              "        document.querySelector('#df-d05afa9e-72ee-4df4-977d-47b1edb05574 button.colab-df-convert');\n",
              "      buttonEl.style.display =\n",
              "        google.colab.kernel.accessAllowed ? 'block' : 'none';\n",
              "\n",
              "      async function convertToInteractive(key) {\n",
              "        const element = document.querySelector('#df-d05afa9e-72ee-4df4-977d-47b1edb05574');\n",
              "        const dataTable =\n",
              "          await google.colab.kernel.invokeFunction('convertToInteractive',\n",
              "                                                    [key], {});\n",
              "        if (!dataTable) return;\n",
              "\n",
              "        const docLinkHtml = 'Like what you see? Visit the ' +\n",
              "          '<a target=\"_blank\" href=https://colab.research.google.com/notebooks/data_table.ipynb>data table notebook</a>'\n",
              "          + ' to learn more about interactive tables.';\n",
              "        element.innerHTML = '';\n",
              "        dataTable['output_type'] = 'display_data';\n",
              "        await google.colab.output.renderOutput(dataTable, element);\n",
              "        const docLink = document.createElement('div');\n",
              "        docLink.innerHTML = docLinkHtml;\n",
              "        element.appendChild(docLink);\n",
              "      }\n",
              "    </script>\n",
              "  </div>\n",
              "\n",
              "\n",
              "<div id=\"df-d2e51f7f-2d8c-4a28-bc3c-5f252c137199\">\n",
              "  <button class=\"colab-df-quickchart\" onclick=\"quickchart('df-d2e51f7f-2d8c-4a28-bc3c-5f252c137199')\"\n",
              "            title=\"Suggest charts.\"\n",
              "            style=\"display:none;\">\n",
              "\n",
              "<svg xmlns=\"http://www.w3.org/2000/svg\" height=\"24px\"viewBox=\"0 0 24 24\"\n",
              "     width=\"24px\">\n",
              "    <g>\n",
              "        <path d=\"M19 3H5c-1.1 0-2 .9-2 2v14c0 1.1.9 2 2 2h14c1.1 0 2-.9 2-2V5c0-1.1-.9-2-2-2zM9 17H7v-7h2v7zm4 0h-2V7h2v10zm4 0h-2v-4h2v4z\"/>\n",
              "    </g>\n",
              "</svg>\n",
              "  </button>\n",
              "\n",
              "<style>\n",
              "  .colab-df-quickchart {\n",
              "      --bg-color: #E8F0FE;\n",
              "      --fill-color: #1967D2;\n",
              "      --hover-bg-color: #E2EBFA;\n",
              "      --hover-fill-color: #174EA6;\n",
              "      --disabled-fill-color: #AAA;\n",
              "      --disabled-bg-color: #DDD;\n",
              "  }\n",
              "\n",
              "  [theme=dark] .colab-df-quickchart {\n",
              "      --bg-color: #3B4455;\n",
              "      --fill-color: #D2E3FC;\n",
              "      --hover-bg-color: #434B5C;\n",
              "      --hover-fill-color: #FFFFFF;\n",
              "      --disabled-bg-color: #3B4455;\n",
              "      --disabled-fill-color: #666;\n",
              "  }\n",
              "\n",
              "  .colab-df-quickchart {\n",
              "    background-color: var(--bg-color);\n",
              "    border: none;\n",
              "    border-radius: 50%;\n",
              "    cursor: pointer;\n",
              "    display: none;\n",
              "    fill: var(--fill-color);\n",
              "    height: 32px;\n",
              "    padding: 0;\n",
              "    width: 32px;\n",
              "  }\n",
              "\n",
              "  .colab-df-quickchart:hover {\n",
              "    background-color: var(--hover-bg-color);\n",
              "    box-shadow: 0 1px 2px rgba(60, 64, 67, 0.3), 0 1px 3px 1px rgba(60, 64, 67, 0.15);\n",
              "    fill: var(--button-hover-fill-color);\n",
              "  }\n",
              "\n",
              "  .colab-df-quickchart-complete:disabled,\n",
              "  .colab-df-quickchart-complete:disabled:hover {\n",
              "    background-color: var(--disabled-bg-color);\n",
              "    fill: var(--disabled-fill-color);\n",
              "    box-shadow: none;\n",
              "  }\n",
              "\n",
              "  .colab-df-spinner {\n",
              "    border: 2px solid var(--fill-color);\n",
              "    border-color: transparent;\n",
              "    border-bottom-color: var(--fill-color);\n",
              "    animation:\n",
              "      spin 1s steps(1) infinite;\n",
              "  }\n",
              "\n",
              "  @keyframes spin {\n",
              "    0% {\n",
              "      border-color: transparent;\n",
              "      border-bottom-color: var(--fill-color);\n",
              "      border-left-color: var(--fill-color);\n",
              "    }\n",
              "    20% {\n",
              "      border-color: transparent;\n",
              "      border-left-color: var(--fill-color);\n",
              "      border-top-color: var(--fill-color);\n",
              "    }\n",
              "    30% {\n",
              "      border-color: transparent;\n",
              "      border-left-color: var(--fill-color);\n",
              "      border-top-color: var(--fill-color);\n",
              "      border-right-color: var(--fill-color);\n",
              "    }\n",
              "    40% {\n",
              "      border-color: transparent;\n",
              "      border-right-color: var(--fill-color);\n",
              "      border-top-color: var(--fill-color);\n",
              "    }\n",
              "    60% {\n",
              "      border-color: transparent;\n",
              "      border-right-color: var(--fill-color);\n",
              "    }\n",
              "    80% {\n",
              "      border-color: transparent;\n",
              "      border-right-color: var(--fill-color);\n",
              "      border-bottom-color: var(--fill-color);\n",
              "    }\n",
              "    90% {\n",
              "      border-color: transparent;\n",
              "      border-bottom-color: var(--fill-color);\n",
              "    }\n",
              "  }\n",
              "</style>\n",
              "\n",
              "  <script>\n",
              "    async function quickchart(key) {\n",
              "      const quickchartButtonEl =\n",
              "        document.querySelector('#' + key + ' button');\n",
              "      quickchartButtonEl.disabled = true;  // To prevent multiple clicks.\n",
              "      quickchartButtonEl.classList.add('colab-df-spinner');\n",
              "      try {\n",
              "        const charts = await google.colab.kernel.invokeFunction(\n",
              "            'suggestCharts', [key], {});\n",
              "      } catch (error) {\n",
              "        console.error('Error during call to suggestCharts:', error);\n",
              "      }\n",
              "      quickchartButtonEl.classList.remove('colab-df-spinner');\n",
              "      quickchartButtonEl.classList.add('colab-df-quickchart-complete');\n",
              "    }\n",
              "    (() => {\n",
              "      let quickchartButtonEl =\n",
              "        document.querySelector('#df-d2e51f7f-2d8c-4a28-bc3c-5f252c137199 button');\n",
              "      quickchartButtonEl.style.display =\n",
              "        google.colab.kernel.accessAllowed ? 'block' : 'none';\n",
              "    })();\n",
              "  </script>\n",
              "</div>\n",
              "    </div>\n",
              "  </div>\n"
            ]
          },
          "metadata": {},
          "execution_count": 127
        }
      ]
    },
    {
      "cell_type": "code",
      "source": [
        "data[\"intent\"].unique()"
      ],
      "metadata": {
        "colab": {
          "base_uri": "https://localhost:8080/"
        },
        "id": "331wxPNBRgRN",
        "outputId": "2ef50357-45ff-4aea-e872-73e3ec3935f0"
      },
      "execution_count": 128,
      "outputs": [
        {
          "output_type": "execute_result",
          "data": {
            "text/plain": [
              "array(['Miscellaneous', 'floods', 'Miscellenous', 'Miscellaenous',\n",
              "       'Miscellneous', 'BombBlast', 'Micscellaneous', 'Micsellaneous',\n",
              "       'War', 'Micellaneous', 'miscellaneous', 'Miscellaeous',\n",
              "       'Earthquake', nan, 'Volcano', 'Tornado', 'Miscellanous',\n",
              "       'Miscelleneous'], dtype=object)"
            ]
          },
          "metadata": {},
          "execution_count": 128
        }
      ]
    },
    {
      "cell_type": "code",
      "source": [
        "# checlking for nan value\n",
        "data['intent'].fillna('misc', inplace=True)\n",
        "\n",
        "data.loc[data[\"intent\"].str.startswith(\"m\"),\"intent\"]=\"misc\"\n",
        "data.loc[data[\"intent\"].str.startswith(\"M\"),\"intent\"]=\"misc\""
      ],
      "metadata": {
        "id": "YyCt61zFTdpa"
      },
      "execution_count": 129,
      "outputs": []
    },
    {
      "cell_type": "code",
      "source": [
        "data[\"intent\"].unique()"
      ],
      "metadata": {
        "colab": {
          "base_uri": "https://localhost:8080/"
        },
        "id": "A3Q7ayN5VWK4",
        "outputId": "380f4ba8-1fad-46ff-d8a8-d05048f279a9"
      },
      "execution_count": 130,
      "outputs": [
        {
          "output_type": "execute_result",
          "data": {
            "text/plain": [
              "array(['misc', 'floods', 'BombBlast', 'War', 'Earthquake', 'Volcano',\n",
              "       'Tornado'], dtype=object)"
            ]
          },
          "metadata": {},
          "execution_count": 130
        }
      ]
    },
    {
      "cell_type": "code",
      "source": [
        "x_train, x_test, y_train, y_test = train_test_split(data[\"text\"],data[\"intent\"],test_size=0.2, random_state=42)\n",
        "len(x_train),len(x_test)"
      ],
      "metadata": {
        "colab": {
          "base_uri": "https://localhost:8080/"
        },
        "id": "Kl2S13DGU6z-",
        "outputId": "bf358dab-fe56-493d-e614-7178b0d2077a"
      },
      "execution_count": 131,
      "outputs": [
        {
          "output_type": "execute_result",
          "data": {
            "text/plain": [
              "(390, 98)"
            ]
          },
          "metadata": {},
          "execution_count": 131
        }
      ]
    },
    {
      "cell_type": "code",
      "source": [
        "# Data Preprocessing cleaing of data\n",
        "tokenizer = nltk.tokenize.RegexpTokenizer(r\"\\w+\")\n",
        "stop_words = nltk.corpus.stopwords.words(\"english\")\n",
        "vectorizer = CountVectorizer(tokenizer=tokenizer.tokenize, stop_words=stop_words)"
      ],
      "metadata": {
        "id": "NCBuErvkRntX"
      },
      "execution_count": 132,
      "outputs": []
    },
    {
      "cell_type": "code",
      "source": [
        "vectorizer.fit(iter(x_train))\n",
        "Xtr = vectorizer.transform(iter(x_train))\n",
        "Xte = vectorizer.transform(iter(x_test))\n",
        "\n",
        "encoder = LabelEncoder()\n",
        "encoder.fit(y_train)\n",
        "Ytr = encoder.transform(y_train)\n",
        "Yte = encoder.transform(y_test)"
      ],
      "metadata": {
        "colab": {
          "base_uri": "https://localhost:8080/"
        },
        "id": "Rd60rAllVtu5",
        "outputId": "0b05da1b-8be6-4573-cded-efb0a555bad3"
      },
      "execution_count": 133,
      "outputs": [
        {
          "output_type": "stream",
          "name": "stderr",
          "text": [
            "/usr/local/lib/python3.10/dist-packages/sklearn/feature_extraction/text.py:528: UserWarning: The parameter 'token_pattern' will not be used since 'tokenizer' is not None'\n",
            "  warnings.warn(\n"
          ]
        }
      ]
    },
    {
      "cell_type": "code",
      "source": [
        "print(\"Number of features before reduction : \", Xtr.shape[1])\n",
        "selection = VarianceThreshold(threshold=0.001)\n",
        "Xtr_whole = copy.deepcopy(Xtr)\n",
        "Ytr_whole = copy.deepcopy(Ytr)\n",
        "selection.fit(Xtr)\n",
        "Xtr = selection.transform(Xtr)\n",
        "Xte = selection.transform(Xte)\n",
        "print(\"Number of features after reduction : \", Xtr.shape[1])"
      ],
      "metadata": {
        "colab": {
          "base_uri": "https://localhost:8080/"
        },
        "id": "GAX966aJdPHv",
        "outputId": "793462cd-6fa2-433a-cebf-f5d00aab4586"
      },
      "execution_count": 134,
      "outputs": [
        {
          "output_type": "stream",
          "name": "stdout",
          "text": [
            "Number of features before reduction :  6646\n",
            "Number of features after reduction :  6646\n"
          ]
        }
      ]
    },
    {
      "cell_type": "code",
      "source": [
        "def plot_me(Ytr):\n",
        "  labels = list(set(Ytr))\n",
        "  counts = []\n",
        "  for label in labels:\n",
        "      counts.append(np.count_nonzero(Ytr == label))\n",
        "  plt.pie(counts, labels=labels, autopct='%1.1f%%')\n",
        "  plt.show()"
      ],
      "metadata": {
        "id": "H_iGqKBBd9k9"
      },
      "execution_count": 135,
      "outputs": []
    },
    {
      "cell_type": "code",
      "source": [
        "plot_me(Ytr)"
      ],
      "metadata": {
        "colab": {
          "base_uri": "https://localhost:8080/",
          "height": 406
        },
        "id": "H9ElV5SvfPq6",
        "outputId": "4c72f534-9624-45fd-d7ca-7e66f1b10a31"
      },
      "execution_count": 136,
      "outputs": [
        {
          "output_type": "display_data",
          "data": {
            "text/plain": [
              "<Figure size 640x480 with 1 Axes>"
            ],
            "image/png": "[encoded data removed]"
          },
          "metadata": {}
        }
      ]
    },
    {
      "cell_type": "code",
      "source": [
        "smote = SMOTE(sampling_strategy='auto', random_state=42)\n",
        "Xtr, Ytr = sm.fit_resample(Xtr, Ytr)\n",
        "plot_me(Ytr)"
      ],
      "metadata": {
        "colab": {
          "base_uri": "https://localhost:8080/",
          "height": 406
        },
        "id": "jbmOzh2PeUQC",
        "outputId": "0f5aa4ad-258e-4b6a-d091-f72d25195b27"
      },
      "execution_count": 137,
      "outputs": [
        {
          "output_type": "display_data",
          "data": {
            "text/plain": [
              "<Figure size 640x480 with 1 Axes>"
            ],
            "image/png": "[encoded data removed]"
          },
          "metadata": {}
        }
      ]
    },
    {
      "cell_type": "code",
      "source": [],
      "metadata": {
        "id": "rHoTDLWAfTL_"
      },
      "execution_count": 137,
      "outputs": []
    },
    {
      "cell_type": "code",
      "source": [
        "# Baseline Model\n",
        "dc = DummyClassifier(strategy=\"stratified\")\n",
        "dc.fit(Xtr, Ytr)\n",
        "pred = dc.predict(Xte)\n",
        "print(classification_report(Yte, pred, target_names=encoder.classes_))"
      ],
      "metadata": {
        "colab": {
          "base_uri": "https://localhost:8080/"
        },
        "id": "b2EU9BsugbH6",
        "outputId": "5d1fd608-fd60-4d9a-fc7e-5423cf8d6700"
      },
      "execution_count": 139,
      "outputs": [
        {
          "output_type": "stream",
          "name": "stdout",
          "text": [
            "              precision    recall  f1-score   support\n",
            "\n",
            "   BombBlast       0.00      0.00      0.00         6\n",
            "  Earthquake       0.00      0.00      0.00         6\n",
            "     Tornado       0.20      0.18      0.19        17\n",
            "     Volcano       0.00      0.00      0.00         1\n",
            "         War       0.00      0.00      0.00         4\n",
            "      floods       0.18      0.18      0.18        11\n",
            "        misc       0.86      0.23      0.36        53\n",
            "\n",
            "    accuracy                           0.17        98\n",
            "   macro avg       0.18      0.08      0.10        98\n",
            "weighted avg       0.52      0.17      0.25        98\n",
            "\n"
          ]
        }
      ]
    },
    {
      "cell_type": "code",
      "source": [
        "# Decision Tree\n",
        "dt = DecisionTreeClassifier()\n",
        "dt.fit(Xtr, Ytr)\n",
        "pred = dt.predict(Xte)\n",
        "print(classification_report(Yte, pred, target_names=encoder.classes_))"
      ],
      "metadata": {
        "colab": {
          "base_uri": "https://localhost:8080/"
        },
        "id": "FYE8FV2Ngbyv",
        "outputId": "0005732c-66eb-4eb8-c4fe-d27781b091ad"
      },
      "execution_count": 140,
      "outputs": [
        {
          "output_type": "stream",
          "name": "stdout",
          "text": [
            "              precision    recall  f1-score   support\n",
            "\n",
            "   BombBlast       0.23      0.50      0.32         6\n",
            "  Earthquake       0.31      0.83      0.45         6\n",
            "     Tornado       0.74      0.82      0.78        17\n",
            "     Volcano       0.50      1.00      0.67         1\n",
            "         War       0.00      0.00      0.00         4\n",
            "      floods       0.20      0.18      0.19        11\n",
            "        misc       0.64      0.40      0.49        53\n",
            "\n",
            "    accuracy                           0.47        98\n",
            "   macro avg       0.37      0.53      0.41        98\n",
            "weighted avg       0.53      0.47      0.47        98\n",
            "\n"
          ]
        }
      ]
    },
    {
      "cell_type": "code",
      "source": [
        "# Random Forest\n",
        "rf = RandomForestClassifier(n_estimators=40)\n",
        "rf.fit(Xtr, Ytr)\n",
        "pred = rf.predict(Xte)\n",
        "print(classification_report(Yte, pred, target_names=encoder.classes_))"
      ],
      "metadata": {
        "id": "UbhvRZaug4k2",
        "outputId": "6884fd1a-7fef-4b2e-d4a8-64366c372a96",
        "colab": {
          "base_uri": "https://localhost:8080/"
        }
      },
      "execution_count": 142,
      "outputs": [
        {
          "output_type": "stream",
          "name": "stdout",
          "text": [
            "              precision    recall  f1-score   support\n",
            "\n",
            "   BombBlast       0.38      0.83      0.53         6\n",
            "  Earthquake       0.33      0.67      0.44         6\n",
            "     Tornado       0.75      0.88      0.81        17\n",
            "     Volcano       0.33      1.00      0.50         1\n",
            "         War       0.17      0.25      0.20         4\n",
            "      floods       0.55      1.00      0.71        11\n",
            "        misc       0.88      0.40      0.55        53\n",
            "\n",
            "    accuracy                           0.59        98\n",
            "   macro avg       0.48      0.72      0.53        98\n",
            "weighted avg       0.72      0.59      0.59        98\n",
            "\n"
          ]
        }
      ]
    },
    {
      "cell_type": "code",
      "source": [
        "# Multinomial Naive Bayesian\n",
        "nb = MultinomialNB()\n",
        "nb.fit(Xtr, Ytr)\n",
        "pred = nb.predict(Xte)\n",
        "print(classification_report(Yte, pred, target_names=encoder.classes_))"
      ],
      "metadata": {
        "id": "9OHKnRAog8c2",
        "outputId": "016fe578-8eb0-4d51-fe01-07617070c72e",
        "colab": {
          "base_uri": "https://localhost:8080/"
        }
      },
      "execution_count": 143,
      "outputs": [
        {
          "output_type": "stream",
          "name": "stdout",
          "text": [
            "              precision    recall  f1-score   support\n",
            "\n",
            "   BombBlast       0.67      1.00      0.80         6\n",
            "  Earthquake       0.75      0.50      0.60         6\n",
            "     Tornado       0.77      1.00      0.87        17\n",
            "     Volcano       0.00      0.00      0.00         1\n",
            "         War       0.50      0.25      0.33         4\n",
            "      floods       0.64      0.64      0.64        11\n",
            "        misc       0.88      0.81      0.84        53\n",
            "\n",
            "    accuracy                           0.79        98\n",
            "   macro avg       0.60      0.60      0.58        98\n",
            "weighted avg       0.79      0.79      0.78        98\n",
            "\n"
          ]
        }
      ]
    },
    {
      "cell_type": "code",
      "source": [
        "# Support Vector Classification\n",
        "from sklearn.svm import SVC\n",
        "svc = SVC()\n",
        "svc.fit(Xtr, Ytr)\n",
        "pred = svc.predict(Xte)\n",
        "print(classification_report(Yte, pred, target_names=encoder.classes_))"
      ],
      "metadata": {
        "id": "KBNW_qNihN1l",
        "outputId": "76da338f-fadb-41e8-ef4c-8295bffda187",
        "colab": {
          "base_uri": "https://localhost:8080/"
        }
      },
      "execution_count": 144,
      "outputs": [
        {
          "output_type": "stream",
          "name": "stdout",
          "text": [
            "              precision    recall  f1-score   support\n",
            "\n",
            "   BombBlast       0.38      0.50      0.43         6\n",
            "  Earthquake       0.75      0.50      0.60         6\n",
            "     Tornado       0.87      0.76      0.81        17\n",
            "     Volcano       0.00      0.00      0.00         1\n",
            "         War       0.00      0.00      0.00         4\n",
            "      floods       0.71      0.45      0.56        11\n",
            "        misc       0.69      0.83      0.75        53\n",
            "\n",
            "    accuracy                           0.69        98\n",
            "   macro avg       0.48      0.44      0.45        98\n",
            "weighted avg       0.67      0.69      0.67        98\n",
            "\n"
          ]
        },
        {
          "output_type": "stream",
          "name": "stderr",
          "text": [
            "/usr/local/lib/python3.10/dist-packages/sklearn/metrics/_classification.py:1344: UndefinedMetricWarning: Precision and F-score are ill-defined and being set to 0.0 in labels with no predicted samples. Use `zero_division` parameter to control this behavior.\n",
            "  _warn_prf(average, modifier, msg_start, len(result))\n",
            "/usr/local/lib/python3.10/dist-packages/sklearn/metrics/_classification.py:1344: UndefinedMetricWarning: Precision and F-score are ill-defined and being set to 0.0 in labels with no predicted samples. Use `zero_division` parameter to control this behavior.\n",
            "  _warn_prf(average, modifier, msg_start, len(result))\n",
            "/usr/local/lib/python3.10/dist-packages/sklearn/metrics/_classification.py:1344: UndefinedMetricWarning: Precision and F-score are ill-defined and being set to 0.0 in labels with no predicted samples. Use `zero_division` parameter to control this behavior.\n",
            "  _warn_prf(average, modifier, msg_start, len(result))\n"
          ]
        }
      ]
    },
    {
      "cell_type": "code",
      "source": [
        "# Multilayered Perceptron\n",
        "mlp = MLPClassifier(solver='adam', alpha=1e-5, hidden_layer_sizes=(100, 20), random_state=1, max_iter=400)\n",
        "mlp.fit(Xtr, Ytr)\n",
        "pred = mlp.predict(Xte)\n",
        "print(classification_report(Yte, pred, target_names=encoder.classes_))"
      ],
      "metadata": {
        "id": "Osvnew0ChR0O",
        "outputId": "b523fc68-137d-4b7c-a33a-01443728337f",
        "colab": {
          "base_uri": "https://localhost:8080/"
        }
      },
      "execution_count": 145,
      "outputs": [
        {
          "output_type": "stream",
          "name": "stdout",
          "text": [
            "              precision    recall  f1-score   support\n",
            "\n",
            "   BombBlast       0.46      1.00      0.63         6\n",
            "  Earthquake       0.40      0.67      0.50         6\n",
            "     Tornado       0.84      0.94      0.89        17\n",
            "     Volcano       0.00      0.00      0.00         1\n",
            "         War       0.20      0.25      0.22         4\n",
            "      floods       0.48      0.91      0.62        11\n",
            "        misc       0.92      0.45      0.61        53\n",
            "\n",
            "    accuracy                           0.62        98\n",
            "   macro avg       0.47      0.60      0.50        98\n",
            "weighted avg       0.76      0.62      0.63        98\n",
            "\n"
          ]
        }
      ]
    },
    {
      "cell_type": "code",
      "source": [
        "# Multinomial Naive Bayesian\n",
        "pred = nb.predict(Xte)\n",
        "print(classification_report(Yte, pred, target_names=encoder.classes_))\n",
        "sns.heatmap(confusion_matrix(Yte, pred))"
      ],
      "metadata": {
        "id": "sBpdRDYZhWTB",
        "outputId": "8b16b003-3bb6-4e78-f1b9-c5e8bf1bc8be",
        "colab": {
          "base_uri": "https://localhost:8080/",
          "height": 690
        }
      },
      "execution_count": 146,
      "outputs": [
        {
          "output_type": "stream",
          "name": "stdout",
          "text": [
            "              precision    recall  f1-score   support\n",
            "\n",
            "   BombBlast       0.67      1.00      0.80         6\n",
            "  Earthquake       0.75      0.50      0.60         6\n",
            "     Tornado       0.77      1.00      0.87        17\n",
            "     Volcano       0.00      0.00      0.00         1\n",
            "         War       0.50      0.25      0.33         4\n",
            "      floods       0.64      0.64      0.64        11\n",
            "        misc       0.88      0.81      0.84        53\n",
            "\n",
            "    accuracy                           0.79        98\n",
            "   macro avg       0.60      0.60      0.58        98\n",
            "weighted avg       0.79      0.79      0.78        98\n",
            "\n"
          ]
        },
        {
          "output_type": "execute_result",
          "data": {
            "text/plain": [
              "<Axes: >"
            ]
          },
          "metadata": {},
          "execution_count": 146
        },
        {
          "output_type": "display_data",
          "data": {
            "text/plain": [
              "<Figure size 640x480 with 2 Axes>"
            ],
            "image/png": "[encoded data removed]"
          },
          "metadata": {}
        }
      ]
    },
    {
      "cell_type": "code",
      "source": [],
      "metadata": {
        "id": "Z9_lCJo0hcWL"
      },
      "execution_count": null,
      "outputs": []
    }
  ]
}