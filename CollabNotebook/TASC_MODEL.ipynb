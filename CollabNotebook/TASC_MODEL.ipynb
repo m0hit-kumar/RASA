{
  "nbformat": 4,
  "nbformat_minor": 0,
  "metadata": {
    "colab": {
      "provenance": [],
      "authorship_tag": "ABX9TyPxoRvJ4pLy1uy/BX08JvkD",
      "include_colab_link": true
    },
    "kernelspec": {
      "name": "python3",
      "display_name": "Python 3"
    },
    "language_info": {
      "name": "python"
    }
  },
  "cells": [
    {
      "cell_type": "markdown",
      "metadata": {
        "id": "view-in-github",
        "colab_type": "text"
      },
      "source": [
        "<a href=\"https://colab.research.google.com/github/m0hit-kumar/RASA/blob/main/CollabNotebook/TASC_MODEL.ipynb\" target=\"_parent\"><img src=\"https://colab.research.google.com/assets/colab-badge.svg\" alt=\"Open In Colab\"/></a>"
      ]
    },
    {
      "cell_type": "code",
      "execution_count": 24,
      "metadata": {
        "id": "fbkFESXhtIzP",
        "colab": {
          "base_uri": "https://localhost:8080/"
        },
        "outputId": "69ff32b9-e0dd-4523-fdc4-43730007e60f"
      },
      "outputs": [
        {
          "output_type": "stream",
          "name": "stdout",
          "text": [
            "Archive:  Corrected_data.zip\n",
            "replace Corrected_data/BombBlast(categorised).json? [y]es, [n]o, [A]ll, [N]one, [r]ename: "
          ]
        }
      ],
      "source": [
        "!unzip Corrected_data.zip\n"
      ]
    },
    {
      "cell_type": "code",
      "source": [
        "import json\n",
        "import os\n",
        "\n",
        "all_data = []\n",
        "for filename in os.listdir('Corrected_data/'):\n",
        "    if filename.endswith(\".json\"):\n",
        "        file_path = os.path.join('Corrected_data/', filename)\n",
        "        with open(file_path, 'r') as file:\n",
        "            data = json.load(file)\n",
        "            all_data.extend(data)\n",
        "\n",
        "with open(\"Data.json\", 'w') as outfile:\n",
        "    json.dump(all_data, outfile, indent=4)"
      ],
      "metadata": {
        "id": "ypxCjEwd6uVk"
      },
      "execution_count": 62,
      "outputs": []
    },
    {
      "cell_type": "code",
      "source": [],
      "metadata": {
        "id": "thugj3OoUVGo"
      },
      "execution_count": 62,
      "outputs": []
    },
    {
      "cell_type": "code",
      "source": [
        "import pandas as pd\n",
        "import numpy as np\n",
        "from sklearn.model_selection import train_test_split\n",
        "import nltk\n",
        "nltk.download('stopwords')\n",
        "import copy\n",
        "import matplotlib.pyplot as plt\n",
        "from sklearn.feature_extraction.text import CountVectorizer\n",
        "from sklearn.preprocessing import LabelEncoder\n",
        "from sklearn.feature_selection import VarianceThreshold\n",
        "from imblearn.over_sampling import SMOTE\n",
        "from sklearn.dummy import DummyClassifier\n",
        "from sklearn.naive_bayes import MultinomialNB\n",
        "from sklearn.tree import DecisionTreeClassifier\n",
        "from sklearn.neural_network import MLPClassifier\n",
        "from sklearn.ensemble import RandomForestClassifier\n",
        "from sklearn.metrics import confusion_matrix\n",
        "from sklearn.metrics import classification_report\n",
        "import seaborn as sns\n",
        "from sklearn.metrics import f1_score\n"
      ],
      "metadata": {
        "colab": {
          "base_uri": "https://localhost:8080/"
        },
        "id": "cMxkM5IBUUrP",
        "outputId": "0c9ec4b1-67e4-4dcf-8e0f-f56b6f327c98"
      },
      "execution_count": 63,
      "outputs": [
        {
          "output_type": "stream",
          "name": "stderr",
          "text": [
            "[nltk_data] Downloading package stopwords to /root/nltk_data...\n",
            "[nltk_data]   Package stopwords is already up-to-date!\n"
          ]
        }
      ]
    },
    {
      "cell_type": "code",
      "source": [
        "\n",
        "data=pd.read_json(\"Data.json\")"
      ],
      "metadata": {
        "id": "Khe1pXtVRVSb"
      },
      "execution_count": 64,
      "outputs": []
    },
    {
      "cell_type": "code",
      "source": [
        "data.head()"
      ],
      "metadata": {
        "colab": {
          "base_uri": "https://localhost:8080/",
          "height": 206
        },
        "id": "eCOvCrRiW9b1",
        "outputId": "062d7baf-1124-4b26-f05d-ba29194b7fbd"
      },
      "execution_count": 65,
      "outputs": [
        {
          "output_type": "execute_result",
          "data": {
            "text/plain": [
              "                                                text     intent\n",
              "0   About a week before the bombing, the theater'...  BombBlast\n",
              "1   Search and rescue teams worked through the ni...  BombBlast\n",
              "2   News photos from the aftermath of the blast s...  BombBlast\n",
              "3   They will remember it all their life and will...  BombBlast\n",
              "4   But the destruction of hundreds of schools is...  BombBlast"
            ],
            "text/html": [
              "\n",
              "  <div id=\"df-da8bf55c-5332-4fb6-88dd-cb1da001dcae\" class=\"colab-df-container\">\n",
              "    <div>\n",
              "<style scoped>\n",
              "    .dataframe tbody tr th:only-of-type {\n",
              "        vertical-align: middle;\n",
              "    }\n",
              "\n",
              "    .dataframe tbody tr th {\n",
              "        vertical-align: top;\n",
              "    }\n",
              "\n",
              "    .dataframe thead th {\n",
              "        text-align: right;\n",
              "    }\n",
              "</style>\n",
              "<table border=\"1\" class=\"dataframe\">\n",
              "  <thead>\n",
              "    <tr style=\"text-align: right;\">\n",
              "      <th></th>\n",
              "      <th>text</th>\n",
              "      <th>intent</th>\n",
              "    </tr>\n",
              "  </thead>\n",
              "  <tbody>\n",
              "    <tr>\n",
              "      <th>0</th>\n",
              "      <td>About a week before the bombing, the theater'...</td>\n",
              "      <td>BombBlast</td>\n",
              "    </tr>\n",
              "    <tr>\n",
              "      <th>1</th>\n",
              "      <td>Search and rescue teams worked through the ni...</td>\n",
              "      <td>BombBlast</td>\n",
              "    </tr>\n",
              "    <tr>\n",
              "      <th>2</th>\n",
              "      <td>News photos from the aftermath of the blast s...</td>\n",
              "      <td>BombBlast</td>\n",
              "    </tr>\n",
              "    <tr>\n",
              "      <th>3</th>\n",
              "      <td>They will remember it all their life and will...</td>\n",
              "      <td>BombBlast</td>\n",
              "    </tr>\n",
              "    <tr>\n",
              "      <th>4</th>\n",
              "      <td>But the destruction of hundreds of schools is...</td>\n",
              "      <td>BombBlast</td>\n",
              "    </tr>\n",
              "  </tbody>\n",
              "</table>\n",
              "</div>\n",
              "    <div class=\"colab-df-buttons\">\n",
              "\n",
              "  <div class=\"colab-df-container\">\n",
              "    <button class=\"colab-df-convert\" onclick=\"convertToInteractive('df-da8bf55c-5332-4fb6-88dd-cb1da001dcae')\"\n",
              "            title=\"Convert this dataframe to an interactive table.\"\n",
              "            style=\"display:none;\">\n",
              "\n",
              "  <svg xmlns=\"http://www.w3.org/2000/svg\" height=\"24px\" viewBox=\"0 -960 960 960\">\n",
              "    <path d=\"M120-120v-720h720v720H120Zm60-500h600v-160H180v160Zm220 220h160v-160H400v160Zm0 220h160v-160H400v160ZM180-400h160v-160H180v160Zm440 0h160v-160H620v160ZM180-180h160v-160H180v160Zm440 0h160v-160H620v160Z\"/>\n",
              "  </svg>\n",
              "    </button>\n",
              "\n",
              "  <style>\n",
              "    .colab-df-container {\n",
              "      display:flex;\n",
              "      gap: 12px;\n",
              "    }\n",
              "\n",
              "    .colab-df-convert {\n",
              "      background-color: #E8F0FE;\n",
              "      border: none;\n",
              "      border-radius: 50%;\n",
              "      cursor: pointer;\n",
              "      display: none;\n",
              "      fill: #1967D2;\n",
              "      height: 32px;\n",
              "      padding: 0 0 0 0;\n",
              "      width: 32px;\n",
              "    }\n",
              "\n",
              "    .colab-df-convert:hover {\n",
              "      background-color: #E2EBFA;\n",
              "      box-shadow: 0px 1px 2px rgba(60, 64, 67, 0.3), 0px 1px 3px 1px rgba(60, 64, 67, 0.15);\n",
              "      fill: #174EA6;\n",
              "    }\n",
              "\n",
              "    .colab-df-buttons div {\n",
              "      margin-bottom: 4px;\n",
              "    }\n",
              "\n",
              "    [theme=dark] .colab-df-convert {\n",
              "      background-color: #3B4455;\n",
              "      fill: #D2E3FC;\n",
              "    }\n",
              "\n",
              "    [theme=dark] .colab-df-convert:hover {\n",
              "      background-color: #434B5C;\n",
              "      box-shadow: 0px 1px 3px 1px rgba(0, 0, 0, 0.15);\n",
              "      filter: drop-shadow(0px 1px 2px rgba(0, 0, 0, 0.3));\n",
              "      fill: #FFFFFF;\n",
              "    }\n",
              "  </style>\n",
              "\n",
              "    <script>\n",
              "      const buttonEl =\n",
              "        document.querySelector('#df-da8bf55c-5332-4fb6-88dd-cb1da001dcae button.colab-df-convert');\n",
              "      buttonEl.style.display =\n",
              "        google.colab.kernel.accessAllowed ? 'block' : 'none';\n",
              "\n",
              "      async function convertToInteractive(key) {\n",
              "        const element = document.querySelector('#df-da8bf55c-5332-4fb6-88dd-cb1da001dcae');\n",
              "        const dataTable =\n",
              "          await google.colab.kernel.invokeFunction('convertToInteractive',\n",
              "                                                    [key], {});\n",
              "        if (!dataTable) return;\n",
              "\n",
              "        const docLinkHtml = 'Like what you see? Visit the ' +\n",
              "          '<a target=\"_blank\" href=https://colab.research.google.com/notebooks/data_table.ipynb>data table notebook</a>'\n",
              "          + ' to learn more about interactive tables.';\n",
              "        element.innerHTML = '';\n",
              "        dataTable['output_type'] = 'display_data';\n",
              "        await google.colab.output.renderOutput(dataTable, element);\n",
              "        const docLink = document.createElement('div');\n",
              "        docLink.innerHTML = docLinkHtml;\n",
              "        element.appendChild(docLink);\n",
              "      }\n",
              "    </script>\n",
              "  </div>\n",
              "\n",
              "\n",
              "<div id=\"df-79dae680-a0b2-4330-a46f-5fc0578a888f\">\n",
              "  <button class=\"colab-df-quickchart\" onclick=\"quickchart('df-79dae680-a0b2-4330-a46f-5fc0578a888f')\"\n",
              "            title=\"Suggest charts.\"\n",
              "            style=\"display:none;\">\n",
              "\n",
              "<svg xmlns=\"http://www.w3.org/2000/svg\" height=\"24px\"viewBox=\"0 0 24 24\"\n",
              "     width=\"24px\">\n",
              "    <g>\n",
              "        <path d=\"M19 3H5c-1.1 0-2 .9-2 2v14c0 1.1.9 2 2 2h14c1.1 0 2-.9 2-2V5c0-1.1-.9-2-2-2zM9 17H7v-7h2v7zm4 0h-2V7h2v10zm4 0h-2v-4h2v4z\"/>\n",
              "    </g>\n",
              "</svg>\n",
              "  </button>\n",
              "\n",
              "<style>\n",
              "  .colab-df-quickchart {\n",
              "      --bg-color: #E8F0FE;\n",
              "      --fill-color: #1967D2;\n",
              "      --hover-bg-color: #E2EBFA;\n",
              "      --hover-fill-color: #174EA6;\n",
              "      --disabled-fill-color: #AAA;\n",
              "      --disabled-bg-color: #DDD;\n",
              "  }\n",
              "\n",
              "  [theme=dark] .colab-df-quickchart {\n",
              "      --bg-color: #3B4455;\n",
              "      --fill-color: #D2E3FC;\n",
              "      --hover-bg-color: #434B5C;\n",
              "      --hover-fill-color: #FFFFFF;\n",
              "      --disabled-bg-color: #3B4455;\n",
              "      --disabled-fill-color: #666;\n",
              "  }\n",
              "\n",
              "  .colab-df-quickchart {\n",
              "    background-color: var(--bg-color);\n",
              "    border: none;\n",
              "    border-radius: 50%;\n",
              "    cursor: pointer;\n",
              "    display: none;\n",
              "    fill: var(--fill-color);\n",
              "    height: 32px;\n",
              "    padding: 0;\n",
              "    width: 32px;\n",
              "  }\n",
              "\n",
              "  .colab-df-quickchart:hover {\n",
              "    background-color: var(--hover-bg-color);\n",
              "    box-shadow: 0 1px 2px rgba(60, 64, 67, 0.3), 0 1px 3px 1px rgba(60, 64, 67, 0.15);\n",
              "    fill: var(--button-hover-fill-color);\n",
              "  }\n",
              "\n",
              "  .colab-df-quickchart-complete:disabled,\n",
              "  .colab-df-quickchart-complete:disabled:hover {\n",
              "    background-color: var(--disabled-bg-color);\n",
              "    fill: var(--disabled-fill-color);\n",
              "    box-shadow: none;\n",
              "  }\n",
              "\n",
              "  .colab-df-spinner {\n",
              "    border: 2px solid var(--fill-color);\n",
              "    border-color: transparent;\n",
              "    border-bottom-color: var(--fill-color);\n",
              "    animation:\n",
              "      spin 1s steps(1) infinite;\n",
              "  }\n",
              "\n",
              "  @keyframes spin {\n",
              "    0% {\n",
              "      border-color: transparent;\n",
              "      border-bottom-color: var(--fill-color);\n",
              "      border-left-color: var(--fill-color);\n",
              "    }\n",
              "    20% {\n",
              "      border-color: transparent;\n",
              "      border-left-color: var(--fill-color);\n",
              "      border-top-color: var(--fill-color);\n",
              "    }\n",
              "    30% {\n",
              "      border-color: transparent;\n",
              "      border-left-color: var(--fill-color);\n",
              "      border-top-color: var(--fill-color);\n",
              "      border-right-color: var(--fill-color);\n",
              "    }\n",
              "    40% {\n",
              "      border-color: transparent;\n",
              "      border-right-color: var(--fill-color);\n",
              "      border-top-color: var(--fill-color);\n",
              "    }\n",
              "    60% {\n",
              "      border-color: transparent;\n",
              "      border-right-color: var(--fill-color);\n",
              "    }\n",
              "    80% {\n",
              "      border-color: transparent;\n",
              "      border-right-color: var(--fill-color);\n",
              "      border-bottom-color: var(--fill-color);\n",
              "    }\n",
              "    90% {\n",
              "      border-color: transparent;\n",
              "      border-bottom-color: var(--fill-color);\n",
              "    }\n",
              "  }\n",
              "</style>\n",
              "\n",
              "  <script>\n",
              "    async function quickchart(key) {\n",
              "      const quickchartButtonEl =\n",
              "        document.querySelector('#' + key + ' button');\n",
              "      quickchartButtonEl.disabled = true;  // To prevent multiple clicks.\n",
              "      quickchartButtonEl.classList.add('colab-df-spinner');\n",
              "      try {\n",
              "        const charts = await google.colab.kernel.invokeFunction(\n",
              "            'suggestCharts', [key], {});\n",
              "      } catch (error) {\n",
              "        console.error('Error during call to suggestCharts:', error);\n",
              "      }\n",
              "      quickchartButtonEl.classList.remove('colab-df-spinner');\n",
              "      quickchartButtonEl.classList.add('colab-df-quickchart-complete');\n",
              "    }\n",
              "    (() => {\n",
              "      let quickchartButtonEl =\n",
              "        document.querySelector('#df-79dae680-a0b2-4330-a46f-5fc0578a888f button');\n",
              "      quickchartButtonEl.style.display =\n",
              "        google.colab.kernel.accessAllowed ? 'block' : 'none';\n",
              "    })();\n",
              "  </script>\n",
              "</div>\n",
              "    </div>\n",
              "  </div>\n"
            ]
          },
          "metadata": {},
          "execution_count": 65
        }
      ]
    },
    {
      "cell_type": "code",
      "source": [
        "data[\"intent\"].unique()"
      ],
      "metadata": {
        "colab": {
          "base_uri": "https://localhost:8080/"
        },
        "id": "331wxPNBRgRN",
        "outputId": "ccad9a50-45da-4fa4-c7fa-ac1507449625"
      },
      "execution_count": 66,
      "outputs": [
        {
          "output_type": "execute_result",
          "data": {
            "text/plain": [
              "array(['BombBlast', 'Miscellaneous', 'Micscellaneous', 'Micsellaneous',\n",
              "       'War', 'Micellaneous', 'miscellaneous', 'Miscellaeous',\n",
              "       'Earthquake', nan, 'Tornado', 'Miscellanous', 'Miscellenous',\n",
              "       'Miscelleneous', 'Volcano', 'floods', 'Miscellaenous',\n",
              "       'Miscellneous'], dtype=object)"
            ]
          },
          "metadata": {},
          "execution_count": 66
        }
      ]
    },
    {
      "cell_type": "code",
      "source": [
        "# checlking for nan value\n",
        "data['intent'].fillna('misc', inplace=True)\n",
        "\n",
        "data.loc[data[\"intent\"].str.startswith(\"m\"),\"intent\"]=\"misc\"\n",
        "data.loc[data[\"intent\"].str.startswith(\"M\"),\"intent\"]=\"misc\""
      ],
      "metadata": {
        "id": "YyCt61zFTdpa"
      },
      "execution_count": 67,
      "outputs": []
    },
    {
      "cell_type": "code",
      "source": [
        "data[\"intent\"].unique()"
      ],
      "metadata": {
        "colab": {
          "base_uri": "https://localhost:8080/"
        },
        "id": "A3Q7ayN5VWK4",
        "outputId": "5ca20c3d-cd1c-4fc9-c57a-442dd0c9f6ef"
      },
      "execution_count": 68,
      "outputs": [
        {
          "output_type": "execute_result",
          "data": {
            "text/plain": [
              "array(['BombBlast', 'misc', 'War', 'Earthquake', 'Tornado', 'Volcano',\n",
              "       'floods'], dtype=object)"
            ]
          },
          "metadata": {},
          "execution_count": 68
        }
      ]
    },
    {
      "cell_type": "code",
      "source": [
        "x_train, x_test, y_train, y_test = train_test_split(data[\"text\"],data[\"intent\"],test_size=0.2, random_state=42)\n",
        "len(x_train),len(x_test)"
      ],
      "metadata": {
        "colab": {
          "base_uri": "https://localhost:8080/"
        },
        "id": "Kl2S13DGU6z-",
        "outputId": "ce579e2f-1be8-4952-a873-13f7e4d646a5"
      },
      "execution_count": 69,
      "outputs": [
        {
          "output_type": "execute_result",
          "data": {
            "text/plain": [
              "(390, 98)"
            ]
          },
          "metadata": {},
          "execution_count": 69
        }
      ]
    },
    {
      "cell_type": "code",
      "source": [
        "# Data Preprocessing cleaing of data\n",
        "tokenizer = nltk.tokenize.RegexpTokenizer(r\"\\w+\")\n",
        "stop_words = nltk.corpus.stopwords.words(\"english\")\n",
        "vectorizer = CountVectorizer(tokenizer=tokenizer.tokenize, stop_words=stop_words)"
      ],
      "metadata": {
        "id": "NCBuErvkRntX"
      },
      "execution_count": 70,
      "outputs": []
    },
    {
      "cell_type": "code",
      "source": [
        "vectorizer.fit(iter(x_train))\n",
        "Xtr = vectorizer.transform(iter(x_train))\n",
        "Xte = vectorizer.transform(iter(x_test))\n",
        "\n",
        "encoder = LabelEncoder()\n",
        "encoder.fit(y_train)\n",
        "Ytr = encoder.transform(y_train)\n",
        "Yte = encoder.transform(y_test)"
      ],
      "metadata": {
        "colab": {
          "base_uri": "https://localhost:8080/"
        },
        "id": "Rd60rAllVtu5",
        "outputId": "72ab7d5e-6a0a-4d82-c26a-7f786531b90f"
      },
      "execution_count": 71,
      "outputs": [
        {
          "output_type": "stream",
          "name": "stderr",
          "text": [
            "/usr/local/lib/python3.10/dist-packages/sklearn/feature_extraction/text.py:528: UserWarning: The parameter 'token_pattern' will not be used since 'tokenizer' is not None'\n",
            "  warnings.warn(\n"
          ]
        }
      ]
    },
    {
      "cell_type": "code",
      "source": [
        "print(\"Number of features before reduction : \", Xtr.shape[1])\n",
        "selection = VarianceThreshold(threshold=0.001)\n",
        "Xtr_whole = copy.deepcopy(Xtr)\n",
        "Ytr_whole = copy.deepcopy(Ytr)\n",
        "selection.fit(Xtr)\n",
        "Xtr = selection.transform(Xtr)\n",
        "Xte = selection.transform(Xte)\n",
        "print(\"Number of features after reduction : \", Xtr.shape[1])"
      ],
      "metadata": {
        "colab": {
          "base_uri": "https://localhost:8080/"
        },
        "id": "GAX966aJdPHv",
        "outputId": "9e4b651e-ad61-4210-ac8a-dcf037ba2fb9"
      },
      "execution_count": 72,
      "outputs": [
        {
          "output_type": "stream",
          "name": "stdout",
          "text": [
            "Number of features before reduction :  6755\n",
            "Number of features after reduction :  6755\n"
          ]
        }
      ]
    },
    {
      "cell_type": "code",
      "source": [
        "def plot_me(Ytr):\n",
        "  labels = list(set(Ytr))\n",
        "  counts = []\n",
        "  for label in labels:\n",
        "      counts.append(np.count_nonzero(Ytr == label))\n",
        "  plt.pie(counts, labels=labels, autopct='%1.1f%%')\n",
        "  plt.show()"
      ],
      "metadata": {
        "id": "H_iGqKBBd9k9"
      },
      "execution_count": 73,
      "outputs": []
    },
    {
      "cell_type": "code",
      "source": [
        "plot_me(y_train)\n",
        "len(y_train)"
      ],
      "metadata": {
        "colab": {
          "base_uri": "https://localhost:8080/",
          "height": 423
        },
        "id": "H9ElV5SvfPq6",
        "outputId": "9414461a-0660-4c93-d2ef-9519ebcaf86a"
      },
      "execution_count": 74,
      "outputs": [
        {
          "output_type": "display_data",
          "data": {
            "text/plain": [
              "<Figure size 640x480 with 1 Axes>"
            ],
            "image/png": "[encoded data removed]"
          },
          "metadata": {}
        },
        {
          "output_type": "execute_result",
          "data": {
            "text/plain": [
              "390"
            ]
          },
          "metadata": {},
          "execution_count": 74
        }
      ]
    },
    {
      "cell_type": "code",
      "source": [
        "smote = SMOTE(sampling_strategy='auto', random_state=42)\n",
        "Xtr, Ytr = sm.fit_resample(Xtr, Ytr)\n",
        "plot_me(Ytr)"
      ],
      "metadata": {
        "id": "rHoTDLWAfTL_"
      },
      "execution_count": null,
      "outputs": []
    },
    {
      "cell_type": "code",
      "source": [
        "# Baseline Model\n",
        "dc = DummyClassifier(strategy=\"stratified\")\n",
        "dc.fit(Xtr, Ytr)\n",
        "pred = dc.predict(Xte)\n",
        "print(classification_report(Yte, pred, target_names=encoder.classes_))"
      ],
      "metadata": {
        "colab": {
          "base_uri": "https://localhost:8080/"
        },
        "id": "b2EU9BsugbH6",
        "outputId": "b2435a16-2b13-4e55-a0ce-7ff74ba9d336"
      },
      "execution_count": 75,
      "outputs": [
        {
          "output_type": "stream",
          "name": "stdout",
          "text": [
            "              precision    recall  f1-score   support\n",
            "\n",
            "   BombBlast       0.00      0.00      0.00         9\n",
            "  Earthquake       0.00      0.00      0.00         8\n",
            "     Tornado       0.26      0.42      0.32        12\n",
            "     Volcano       0.00      0.00      0.00         0\n",
            "         War       0.00      0.00      0.00         6\n",
            "      floods       0.00      0.00      0.00        13\n",
            "        misc       0.56      0.46      0.51        50\n",
            "\n",
            "    accuracy                           0.29        98\n",
            "   macro avg       0.12      0.13      0.12        98\n",
            "weighted avg       0.32      0.29      0.30        98\n",
            "\n"
          ]
        },
        {
          "output_type": "stream",
          "name": "stderr",
          "text": [
            "/usr/local/lib/python3.10/dist-packages/sklearn/metrics/_classification.py:1344: UndefinedMetricWarning: Recall and F-score are ill-defined and being set to 0.0 in labels with no true samples. Use `zero_division` parameter to control this behavior.\n",
            "  _warn_prf(average, modifier, msg_start, len(result))\n",
            "/usr/local/lib/python3.10/dist-packages/sklearn/metrics/_classification.py:1344: UndefinedMetricWarning: Recall and F-score are ill-defined and being set to 0.0 in labels with no true samples. Use `zero_division` parameter to control this behavior.\n",
            "  _warn_prf(average, modifier, msg_start, len(result))\n",
            "/usr/local/lib/python3.10/dist-packages/sklearn/metrics/_classification.py:1344: UndefinedMetricWarning: Recall and F-score are ill-defined and being set to 0.0 in labels with no true samples. Use `zero_division` parameter to control this behavior.\n",
            "  _warn_prf(average, modifier, msg_start, len(result))\n"
          ]
        }
      ]
    },
    {
      "cell_type": "code",
      "source": [
        "# Decision Tree\n",
        "dt = DecisionTreeClassifier()\n",
        "dt.fit(Xtr, Ytr)\n",
        "pred = dt.predict(Xte)\n",
        "print(classification_report(Yte, pred, target_names=encoder.classes_))"
      ],
      "metadata": {
        "colab": {
          "base_uri": "https://localhost:8080/"
        },
        "id": "FYE8FV2Ngbyv",
        "outputId": "12a8c444-351f-446c-ce91-6ac4d6a8d0fa"
      },
      "execution_count": 85,
      "outputs": [
        {
          "output_type": "stream",
          "name": "stdout",
          "text": [
            "              precision    recall  f1-score   support\n",
            "\n",
            "           0       1.00      0.78      0.88         9\n",
            "           1       1.00      1.00      1.00         8\n",
            "           2       1.00      0.92      0.96        12\n",
            "           4       0.75      0.50      0.60         6\n",
            "           5       0.67      0.62      0.64        13\n",
            "           6       0.80      0.90      0.85        50\n",
            "\n",
            "    accuracy                           0.84        98\n",
            "   macro avg       0.87      0.78      0.82        98\n",
            "weighted avg       0.84      0.84      0.83        98\n",
            "\n"
          ]
        }
      ]
    },
    {
      "cell_type": "code",
      "source": [
        "# Random Forest\n",
        "rf = RandomForestClassifier(n_estimators=40)\n",
        "rf.fit(Xtr, Ytr)\n",
        "pred = rf.predict(Xte)\n",
        "print(classification_report(Yte, pred, target_names=encoder.classes_))"
      ],
      "metadata": {
        "id": "UbhvRZaug4k2",
        "outputId": "14a25f02-7aeb-4f07-c77e-d0dbbe7de283",
        "colab": {
          "base_uri": "https://localhost:8080/"
        }
      },
      "execution_count": 78,
      "outputs": [
        {
          "output_type": "stream",
          "name": "stdout",
          "text": [
            "              precision    recall  f1-score   support\n",
            "\n",
            "           0       1.00      0.33      0.50         9\n",
            "           1       1.00      1.00      1.00         8\n",
            "           2       1.00      0.92      0.96        12\n",
            "           4       1.00      0.17      0.29         6\n",
            "           5       1.00      0.38      0.56        13\n",
            "           6       0.71      1.00      0.83        50\n",
            "\n",
            "    accuracy                           0.80        98\n",
            "   macro avg       0.95      0.63      0.69        98\n",
            "weighted avg       0.85      0.80      0.76        98\n",
            "\n"
          ]
        }
      ]
    },
    {
      "cell_type": "code",
      "source": [
        "# Multinomial Naive Bayesian\n",
        "nb = MultinomialNB()\n",
        "nb.fit(Xtr, Ytr)\n",
        "pred = nb.predict(Xte)\n",
        "print(classification_report(Yte, pred, target_names=encoder.classes_))"
      ],
      "metadata": {
        "id": "9OHKnRAog8c2",
        "outputId": "e9ab4b1b-2cfc-4d23-e465-9536cce5621c",
        "colab": {
          "base_uri": "https://localhost:8080/"
        }
      },
      "execution_count": 79,
      "outputs": [
        {
          "output_type": "stream",
          "name": "stdout",
          "text": [
            "              precision    recall  f1-score   support\n",
            "\n",
            "           0       0.70      0.78      0.74         9\n",
            "           1       1.00      0.75      0.86         8\n",
            "           2       0.65      0.92      0.76        12\n",
            "           4       1.00      0.17      0.29         6\n",
            "           5       1.00      0.62      0.76        13\n",
            "           6       0.80      0.90      0.85        50\n",
            "\n",
            "    accuracy                           0.80        98\n",
            "   macro avg       0.86      0.69      0.71        98\n",
            "weighted avg       0.83      0.80      0.78        98\n",
            "\n"
          ]
        }
      ]
    },
    {
      "cell_type": "code",
      "source": [
        "# Support Vector Classification\n",
        "from sklearn.svm import SVC\n",
        "svc = SVC()\n",
        "svc.fit(Xtr, Ytr)\n",
        "pred = svc.predict(Xte)\n",
        "print(classification_report(Yte, pred, target_names=encoder.classes_))"
      ],
      "metadata": {
        "id": "KBNW_qNihN1l",
        "outputId": "d9450a6b-a706-4bdb-e52b-4e32e750a712",
        "colab": {
          "base_uri": "https://localhost:8080/"
        }
      },
      "execution_count": 80,
      "outputs": [
        {
          "output_type": "stream",
          "name": "stdout",
          "text": [
            "              precision    recall  f1-score   support\n",
            "\n",
            "           0       0.00      0.00      0.00         9\n",
            "           1       1.00      0.12      0.22         8\n",
            "           2       1.00      0.83      0.91        12\n",
            "           4       0.00      0.00      0.00         6\n",
            "           5       0.00      0.00      0.00        13\n",
            "           6       0.57      1.00      0.73        50\n",
            "\n",
            "    accuracy                           0.62        98\n",
            "   macro avg       0.43      0.33      0.31        98\n",
            "weighted avg       0.50      0.62      0.50        98\n",
            "\n"
          ]
        },
        {
          "output_type": "stream",
          "name": "stderr",
          "text": [
            "/usr/local/lib/python3.10/dist-packages/sklearn/metrics/_classification.py:1344: UndefinedMetricWarning: Precision and F-score are ill-defined and being set to 0.0 in labels with no predicted samples. Use `zero_division` parameter to control this behavior.\n",
            "  _warn_prf(average, modifier, msg_start, len(result))\n",
            "/usr/local/lib/python3.10/dist-packages/sklearn/metrics/_classification.py:1344: UndefinedMetricWarning: Precision and F-score are ill-defined and being set to 0.0 in labels with no predicted samples. Use `zero_division` parameter to control this behavior.\n",
            "  _warn_prf(average, modifier, msg_start, len(result))\n",
            "/usr/local/lib/python3.10/dist-packages/sklearn/metrics/_classification.py:1344: UndefinedMetricWarning: Precision and F-score are ill-defined and being set to 0.0 in labels with no predicted samples. Use `zero_division` parameter to control this behavior.\n",
            "  _warn_prf(average, modifier, msg_start, len(result))\n"
          ]
        }
      ]
    },
    {
      "cell_type": "code",
      "source": [
        "# Multilayered Perceptron\n",
        "mlp = MLPClassifier(solver='adam', alpha=1e-5, hidden_layer_sizes=(100, 20), random_state=1, max_iter=400)\n",
        "mlp.fit(Xtr, Ytr)\n",
        "pred = mlp.predict(Xte)\n",
        "print(classification_report(Yte, pred, target_names=encoder.classes_))"
      ],
      "metadata": {
        "id": "Osvnew0ChR0O",
        "outputId": "d393692e-462b-4d89-b854-a80644ea3cd8",
        "colab": {
          "base_uri": "https://localhost:8080/"
        }
      },
      "execution_count": 81,
      "outputs": [
        {
          "output_type": "stream",
          "name": "stdout",
          "text": [
            "              precision    recall  f1-score   support\n",
            "\n",
            "           0       0.80      0.44      0.57         9\n",
            "           1       0.67      0.75      0.71         8\n",
            "           2       1.00      0.92      0.96        12\n",
            "           4       1.00      0.17      0.29         6\n",
            "           5       0.82      0.69      0.75        13\n",
            "           6       0.75      0.92      0.83        50\n",
            "\n",
            "    accuracy                           0.79        98\n",
            "   macro avg       0.84      0.65      0.68        98\n",
            "weighted avg       0.80      0.79      0.77        98\n",
            "\n"
          ]
        }
      ]
    },
    {
      "cell_type": "code",
      "source": [
        "# Multinomial Naive Bayesian\n",
        "pred = nb.predict(Xte)\n",
        "print(classification_report(Yte, pred, target_names=encoder.classes_))\n",
        "sns.heatmap(confusion_matrix(Yte, pred))"
      ],
      "metadata": {
        "id": "sBpdRDYZhWTB",
        "outputId": "6952afa6-51cf-4518-b77c-6b6851c39eaa",
        "colab": {
          "base_uri": "https://localhost:8080/",
          "height": 678
        }
      },
      "execution_count": 82,
      "outputs": [
        {
          "output_type": "stream",
          "name": "stdout",
          "text": [
            "              precision    recall  f1-score   support\n",
            "\n",
            "           0       0.70      0.78      0.74         9\n",
            "           1       1.00      0.75      0.86         8\n",
            "           2       0.65      0.92      0.76        12\n",
            "           4       1.00      0.17      0.29         6\n",
            "           5       1.00      0.62      0.76        13\n",
            "           6       0.80      0.90      0.85        50\n",
            "\n",
            "    accuracy                           0.80        98\n",
            "   macro avg       0.86      0.69      0.71        98\n",
            "weighted avg       0.83      0.80      0.78        98\n",
            "\n"
          ]
        },
        {
          "output_type": "execute_result",
          "data": {
            "text/plain": [
              "<Axes: >"
            ]
          },
          "metadata": {},
          "execution_count": 82
        },
        {
          "output_type": "display_data",
          "data": {
            "text/plain": [
              "<Figure size 640x480 with 2 Axes>"
            ],
            "image/png": "[encoded data removed]"
          },
          "metadata": {}
        }
      ]
    },
    {
      "cell_type": "code",
      "source": [
        "import pickle\n",
        "\n",
        "model = dt\n",
        "\n",
        "# Save the model to a .pkl file\n",
        "with open('model.pkl', 'wb') as model_file:\n",
        "    pickle.dump(model, model_file)\n",
        "\n",
        "# To load the model back from the .pkl file\n",
        "with open('model.pkl', 'rb') as model_file:\n",
        "    loaded_model = pickle.load(model_file)\n"
      ],
      "metadata": {
        "id": "Z9_lCJo0hcWL"
      },
      "execution_count": 83,
      "outputs": []
    },
    {
      "cell_type": "code",
      "source": [],
      "metadata": {
        "id": "2naArxMYZNO7"
      },
      "execution_count": null,
      "outputs": []
    }
  ]
}